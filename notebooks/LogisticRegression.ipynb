{
 "cells": [
  {
   "cell_type": "code",
   "execution_count": 1,
   "id": "1f6b52c9-2cf6-461f-b169-798e542868a6",
   "metadata": {},
   "outputs": [],
   "source": [
    "import pandas as pd\n",
    "import numpy as np\n",
    "import random"
   ]
  },
  {
   "cell_type": "code",
   "execution_count": 57,
   "id": "68f02570-a0ac-4051-8c16-1fee8898f6c0",
   "metadata": {},
   "outputs": [],
   "source": [
    "df = pd.read_csv('../datasets/dataset_house_price_classification.csv')"
   ]
  },
  {
   "cell_type": "code",
   "execution_count": 58,
   "id": "01bf98b2-9b7f-40f9-90c5-8d6c3afa07b4",
   "metadata": {},
   "outputs": [
    {
     "data": {
      "text/html": [
       "<div>\n",
       "<style scoped>\n",
       "    .dataframe tbody tr th:only-of-type {\n",
       "        vertical-align: middle;\n",
       "    }\n",
       "\n",
       "    .dataframe tbody tr th {\n",
       "        vertical-align: top;\n",
       "    }\n",
       "\n",
       "    .dataframe thead th {\n",
       "        text-align: right;\n",
       "    }\n",
       "</style>\n",
       "<table border=\"1\" class=\"dataframe\">\n",
       "  <thead>\n",
       "    <tr style=\"text-align: right;\">\n",
       "      <th></th>\n",
       "      <th>value</th>\n",
       "      <th>area</th>\n",
       "      <th>distance_beach</th>\n",
       "      <th>dist_supmarket</th>\n",
       "      <th>should_buy</th>\n",
       "    </tr>\n",
       "  </thead>\n",
       "  <tbody>\n",
       "    <tr>\n",
       "      <th>0</th>\n",
       "      <td>4600000</td>\n",
       "      <td>280</td>\n",
       "      <td>0.240925</td>\n",
       "      <td>0.793637</td>\n",
       "      <td>1</td>\n",
       "    </tr>\n",
       "    <tr>\n",
       "      <th>1</th>\n",
       "      <td>900000</td>\n",
       "      <td>208</td>\n",
       "      <td>0.904136</td>\n",
       "      <td>0.134494</td>\n",
       "      <td>1</td>\n",
       "    </tr>\n",
       "    <tr>\n",
       "      <th>2</th>\n",
       "      <td>2550000</td>\n",
       "      <td>170</td>\n",
       "      <td>0.059525</td>\n",
       "      <td>0.423318</td>\n",
       "      <td>1</td>\n",
       "    </tr>\n",
       "    <tr>\n",
       "      <th>3</th>\n",
       "      <td>550000</td>\n",
       "      <td>100</td>\n",
       "      <td>2.883181</td>\n",
       "      <td>0.525064</td>\n",
       "      <td>0</td>\n",
       "    </tr>\n",
       "    <tr>\n",
       "      <th>4</th>\n",
       "      <td>2200000</td>\n",
       "      <td>164</td>\n",
       "      <td>0.239758</td>\n",
       "      <td>0.192374</td>\n",
       "      <td>1</td>\n",
       "    </tr>\n",
       "  </tbody>\n",
       "</table>\n",
       "</div>"
      ],
      "text/plain": [
       "     value  area  distance_beach  dist_supmarket  should_buy\n",
       "0  4600000   280        0.240925        0.793637           1\n",
       "1   900000   208        0.904136        0.134494           1\n",
       "2  2550000   170        0.059525        0.423318           1\n",
       "3   550000   100        2.883181        0.525064           0\n",
       "4  2200000   164        0.239758        0.192374           1"
      ]
     },
     "execution_count": 58,
     "metadata": {},
     "output_type": "execute_result"
    }
   ],
   "source": [
    "df.head()"
   ]
  },
  {
   "cell_type": "code",
   "execution_count": 62,
   "id": "c683e730-12b6-475c-9271-5e98952712f6",
   "metadata": {},
   "outputs": [],
   "source": [
    "df['value'] = np.log(df['value'])\n",
    "df['area'] = np.log(df['area'])\n",
    "df['distance_beach'] = np.log(df['distance_beach'] + 1)\n",
    "df['dist_supmarket'] = np.log(df['dist_supmarket'] + 1)"
   ]
  },
  {
   "cell_type": "code",
   "execution_count": 63,
   "id": "19402770-f7c4-4d31-bb74-1cab44c8ced3",
   "metadata": {},
   "outputs": [
    {
     "data": {
      "text/html": [
       "<div>\n",
       "<style scoped>\n",
       "    .dataframe tbody tr th:only-of-type {\n",
       "        vertical-align: middle;\n",
       "    }\n",
       "\n",
       "    .dataframe tbody tr th {\n",
       "        vertical-align: top;\n",
       "    }\n",
       "\n",
       "    .dataframe thead th {\n",
       "        text-align: right;\n",
       "    }\n",
       "</style>\n",
       "<table border=\"1\" class=\"dataframe\">\n",
       "  <thead>\n",
       "    <tr style=\"text-align: right;\">\n",
       "      <th></th>\n",
       "      <th>value</th>\n",
       "      <th>area</th>\n",
       "      <th>distance_beach</th>\n",
       "      <th>dist_supmarket</th>\n",
       "      <th>should_buy</th>\n",
       "    </tr>\n",
       "  </thead>\n",
       "  <tbody>\n",
       "    <tr>\n",
       "      <th>0</th>\n",
       "      <td>15.341567</td>\n",
       "      <td>5.634790</td>\n",
       "      <td>0.215857</td>\n",
       "      <td>0.584245</td>\n",
       "      <td>1</td>\n",
       "    </tr>\n",
       "    <tr>\n",
       "      <th>1</th>\n",
       "      <td>13.710150</td>\n",
       "      <td>5.337538</td>\n",
       "      <td>0.644028</td>\n",
       "      <td>0.126187</td>\n",
       "      <td>1</td>\n",
       "    </tr>\n",
       "    <tr>\n",
       "      <th>2</th>\n",
       "      <td>14.751604</td>\n",
       "      <td>5.135798</td>\n",
       "      <td>0.057821</td>\n",
       "      <td>0.352991</td>\n",
       "      <td>1</td>\n",
       "    </tr>\n",
       "    <tr>\n",
       "      <th>3</th>\n",
       "      <td>13.217674</td>\n",
       "      <td>4.605170</td>\n",
       "      <td>1.356655</td>\n",
       "      <td>0.422036</td>\n",
       "      <td>0</td>\n",
       "    </tr>\n",
       "    <tr>\n",
       "      <th>4</th>\n",
       "      <td>14.603968</td>\n",
       "      <td>5.099866</td>\n",
       "      <td>0.214916</td>\n",
       "      <td>0.175946</td>\n",
       "      <td>1</td>\n",
       "    </tr>\n",
       "  </tbody>\n",
       "</table>\n",
       "</div>"
      ],
      "text/plain": [
       "       value      area  distance_beach  dist_supmarket  should_buy\n",
       "0  15.341567  5.634790        0.215857        0.584245           1\n",
       "1  13.710150  5.337538        0.644028        0.126187           1\n",
       "2  14.751604  5.135798        0.057821        0.352991           1\n",
       "3  13.217674  4.605170        1.356655        0.422036           0\n",
       "4  14.603968  5.099866        0.214916        0.175946           1"
      ]
     },
     "execution_count": 63,
     "metadata": {},
     "output_type": "execute_result"
    }
   ],
   "source": [
    "df.head()"
   ]
  },
  {
   "cell_type": "code",
   "execution_count": 35,
   "id": "1db7f58e-4d85-4487-8bfd-7b1fe14787df",
   "metadata": {},
   "outputs": [],
   "source": [
    "def fit(X, y, mode='gradient_descent', learning_rate=0.01, steps=10000, seed=0, verbosity=0, cost_func='cross_entropy'):\n",
    "    modes = {\n",
    "        'gradient_descent': gradient_descent\n",
    "    }\n",
    "    \n",
    "    return modes.get(mode, lambda: 'Invalid')(X=X,\n",
    "                                              y=y,\n",
    "                                              learning_rate=learning_rate,\n",
    "                                              steps=steps,\n",
    "                                              seed=seed,\n",
    "                                              verbosity=verbosity,\n",
    "                                              cost_func=cost_func)"
   ]
  },
  {
   "cell_type": "code",
   "execution_count": 27,
   "id": "78c7ab34-c8b1-46e1-bdae-b0a9b4370b29",
   "metadata": {},
   "outputs": [],
   "source": [
    "def absolute_error(pred_y, expec_y):\n",
    "    return (pred_y - expec_y)"
   ]
  },
  {
   "cell_type": "code",
   "execution_count": 71,
   "id": "196fb598-0293-4427-9d1a-656d7c1eeebd",
   "metadata": {},
   "outputs": [],
   "source": [
    "def predict_proba(X, betas, intercept=True):\n",
    "    X = np.c_[np.ones(X.shape[0]), X] if intercept else X\n",
    "    \n",
    "    z = np.dot(X, betas)\n",
    "    return 1 / (1 + np.exp(-z))"
   ]
  },
  {
   "cell_type": "code",
   "execution_count": 70,
   "id": "315176c0-c4b0-4e14-a22b-5af51a1c0689",
   "metadata": {},
   "outputs": [],
   "source": [
    "def predict(y, betas, threshold = 0.5):\n",
    "    return (predict_proba(y, betas) > 0.5)*1"
   ]
  },
  {
   "cell_type": "code",
   "execution_count": 44,
   "id": "1a355ef9-b5c6-4f6e-b2b8-4c639e1f26b8",
   "metadata": {},
   "outputs": [],
   "source": [
    "def cross_entropy(y_pred, y_expec):\n",
    "    return (-y_expec*np.log(y_pred) - (1 - y_expec)*np.log(1 - y_pred)).mean()"
   ]
  },
  {
   "cell_type": "code",
   "execution_count": 60,
   "id": "4d54c5f0-1c60-477e-8e2b-93308f5d7fb5",
   "metadata": {},
   "outputs": [],
   "source": [
    "def gradient_descent(X, y, learning_rate, steps, seed, verbosity, cost_func='cross_entropy', intercept=True, **kwargs):\n",
    "    np.random.seed(seed)\n",
    "    \n",
    "    X = np.c_[np.ones(X.shape[0]), X] if intercept else X\n",
    "    \n",
    "    minimize = {\n",
    "        'cross_entropy': cross_entropy\n",
    "    }\n",
    "    \n",
    "    betas = np.random.rand(X.shape[1])\n",
    "    \n",
    "    for i in range(steps):\n",
    "        predicted = predict_proba(X, betas, intercept=False)\n",
    "        error = minimize.get(cost_func, lambda: 'Invalid')(predicted, y)\n",
    "            \n",
    "        if verbosity != 0 and i % verbosity == 0 :\n",
    "            print('Step: {} --- Error: {}'.format(i, error))\n",
    "        \n",
    "        error = predicted - y\n",
    "        gradient = np.dot(X.T, error)/(len(X))\n",
    "        betas -= learning_rate*gradient\n",
    "    \n",
    "    return betas"
   ]
  },
  {
   "cell_type": "code",
   "execution_count": 64,
   "id": "23c5be04-8224-4159-9b35-313e6666adf4",
   "metadata": {},
   "outputs": [
    {
     "name": "stdout",
     "output_type": "stream",
     "text": [
      "Step: 0 --- Error: 8.64039360110891\n",
      "Step: 1000 --- Error: 0.3068509524080482\n",
      "Step: 2000 --- Error: 0.29882549538137126\n",
      "Step: 3000 --- Error: 0.2983581074563666\n",
      "Step: 4000 --- Error: 0.29806465608454114\n",
      "Step: 5000 --- Error: 0.29780855042822774\n",
      "Step: 6000 --- Error: 0.2975664466572868\n",
      "Step: 7000 --- Error: 0.2973333549433567\n",
      "Step: 8000 --- Error: 0.2971078250585845\n",
      "Step: 9000 --- Error: 0.29688923704683573\n"
     ]
    }
   ],
   "source": [
    "betas = fit(df.drop('should_buy', axis=1).values, df['should_buy'].values, seed=42, learning_rate=0.1, verbosity=1000)"
   ]
  },
  {
   "cell_type": "code",
   "execution_count": 65,
   "id": "c7d770c2-5873-45a8-9663-37b8a9573f0f",
   "metadata": {},
   "outputs": [
    {
     "data": {
      "text/plain": [
       "array([[ 4.27666612,  0.40546511,  0.09531018, 13.65299163]])"
      ]
     },
     "execution_count": 65,
     "metadata": {},
     "output_type": "execute_result"
    }
   ],
   "source": [
    "np.array([[np.log(72), np.log(0.5 + 1), np.log(0.1 +1), np.log(850000)]])"
   ]
  },
  {
   "cell_type": "code",
   "execution_count": 66,
   "id": "4d6b7e74-f77f-4e5b-9051-0da06cae5342",
   "metadata": {},
   "outputs": [
    {
     "data": {
      "text/plain": [
       "array([0.69807295])"
      ]
     },
     "execution_count": 66,
     "metadata": {},
     "output_type": "execute_result"
    }
   ],
   "source": [
    "predict_proba(np.array([[np.log(72), np.log(0.5 + 1), np.log(0.1 +1), np.log(850000)]]), betas)"
   ]
  },
  {
   "cell_type": "code",
   "execution_count": 72,
   "id": "c7859d35-8291-4a1e-b4f8-e47ad22629c1",
   "metadata": {},
   "outputs": [
    {
     "data": {
      "text/plain": [
       "array([1])"
      ]
     },
     "execution_count": 72,
     "metadata": {},
     "output_type": "execute_result"
    }
   ],
   "source": [
    "predict(np.array([[np.log(72), np.log(0.5 + 1), np.log(0.1 +1), np.log(850000)]]), betas)"
   ]
  },
  {
   "cell_type": "code",
   "execution_count": 67,
   "id": "0afb153b-0bed-43e8-a5ad-02d6769f81d1",
   "metadata": {},
   "outputs": [],
   "source": [
    "def accuracy(y_pred, y_expec):\n",
    "    return (y_pred == y_expec).mean()"
   ]
  }
 ],
 "metadata": {
  "kernelspec": {
   "display_name": "Python 3 (ipykernel)",
   "language": "python",
   "name": "python3"
  },
  "language_info": {
   "codemirror_mode": {
    "name": "ipython",
    "version": 3
   },
   "file_extension": ".py",
   "mimetype": "text/x-python",
   "name": "python",
   "nbconvert_exporter": "python",
   "pygments_lexer": "ipython3",
   "version": "3.7.12"
  }
 },
 "nbformat": 4,
 "nbformat_minor": 5
}
