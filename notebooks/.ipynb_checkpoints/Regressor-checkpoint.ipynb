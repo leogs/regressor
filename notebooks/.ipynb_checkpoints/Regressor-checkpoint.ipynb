{
 "cells": [
  {
   "cell_type": "code",
   "execution_count": 1,
   "id": "92dd4812-2a86-4d1b-92fe-8b5462e93c37",
   "metadata": {},
   "outputs": [],
   "source": [
    "import pandas as pd\n",
    "import numpy as np\n",
    "import random"
   ]
  },
  {
   "cell_type": "code",
   "execution_count": 2,
   "id": "41aa0c55-6edc-487f-942e-bdb0241c628a",
   "metadata": {},
   "outputs": [],
   "source": [
    "df = pd.read_csv('../datasets/dataset_house_price.csv')"
   ]
  },
  {
   "cell_type": "code",
   "execution_count": 3,
   "id": "9bd2c26a-ffbb-4cf1-87b3-0737ed38a9a9",
   "metadata": {},
   "outputs": [
    {
     "data": {
      "text/html": [
       "<div>\n",
       "<style scoped>\n",
       "    .dataframe tbody tr th:only-of-type {\n",
       "        vertical-align: middle;\n",
       "    }\n",
       "\n",
       "    .dataframe tbody tr th {\n",
       "        vertical-align: top;\n",
       "    }\n",
       "\n",
       "    .dataframe thead th {\n",
       "        text-align: right;\n",
       "    }\n",
       "</style>\n",
       "<table border=\"1\" class=\"dataframe\">\n",
       "  <thead>\n",
       "    <tr style=\"text-align: right;\">\n",
       "      <th></th>\n",
       "      <th>value</th>\n",
       "      <th>area</th>\n",
       "      <th>distance_beach</th>\n",
       "      <th>distance_supmarket</th>\n",
       "    </tr>\n",
       "  </thead>\n",
       "  <tbody>\n",
       "    <tr>\n",
       "      <th>0</th>\n",
       "      <td>4600000</td>\n",
       "      <td>280</td>\n",
       "      <td>0.240925</td>\n",
       "      <td>0.793637</td>\n",
       "    </tr>\n",
       "    <tr>\n",
       "      <th>1</th>\n",
       "      <td>900000</td>\n",
       "      <td>208</td>\n",
       "      <td>0.904136</td>\n",
       "      <td>0.134494</td>\n",
       "    </tr>\n",
       "    <tr>\n",
       "      <th>2</th>\n",
       "      <td>2550000</td>\n",
       "      <td>170</td>\n",
       "      <td>0.059525</td>\n",
       "      <td>0.423318</td>\n",
       "    </tr>\n",
       "    <tr>\n",
       "      <th>3</th>\n",
       "      <td>550000</td>\n",
       "      <td>100</td>\n",
       "      <td>2.883181</td>\n",
       "      <td>0.525064</td>\n",
       "    </tr>\n",
       "    <tr>\n",
       "      <th>4</th>\n",
       "      <td>2200000</td>\n",
       "      <td>164</td>\n",
       "      <td>0.239758</td>\n",
       "      <td>0.192374</td>\n",
       "    </tr>\n",
       "  </tbody>\n",
       "</table>\n",
       "</div>"
      ],
      "text/plain": [
       "     value  area  distance_beach  distance_supmarket\n",
       "0  4600000   280        0.240925            0.793637\n",
       "1   900000   208        0.904136            0.134494\n",
       "2  2550000   170        0.059525            0.423318\n",
       "3   550000   100        2.883181            0.525064\n",
       "4  2200000   164        0.239758            0.192374"
      ]
     },
     "execution_count": 3,
     "metadata": {},
     "output_type": "execute_result"
    }
   ],
   "source": [
    "df.head()"
   ]
  },
  {
   "cell_type": "markdown",
   "id": "8e261ff3-6f46-4601-ae7f-2826a393dcd7",
   "metadata": {},
   "source": [
    "## Log-transforming data"
   ]
  },
  {
   "cell_type": "code",
   "execution_count": 4,
   "id": "17a6f834-c8c8-474f-b0f8-da3b4b4b7261",
   "metadata": {},
   "outputs": [],
   "source": [
    "df['value'] = np.log(df['value'])\n",
    "df['area'] = np.log(df['area'])\n",
    "df['distance_beach'] = np.log(df['distance_beach'] + 1)\n",
    "df['distance_supmarket'] = np.log(df['distance_supmarket'] + 1)"
   ]
  },
  {
   "cell_type": "code",
   "execution_count": 5,
   "id": "4e019484-9aee-4cf9-b62b-eb5002df5d67",
   "metadata": {},
   "outputs": [],
   "source": [
    "def predict(x, theta1, theta0):\n",
    "    return x * theta1 + theta0"
   ]
  },
  {
   "cell_type": "code",
   "execution_count": 43,
   "id": "dfd3e4ce-93e9-46bc-af0c-533d04174947",
   "metadata": {},
   "outputs": [],
   "source": [
    "def predict_multivariate(X, betas, intercept=True):\n",
    "    X = np.c_[np.ones(X.shape[0]), X] if intercept else X\n",
    "    \n",
    "    return np.dot(X, betas)"
   ]
  },
  {
   "cell_type": "code",
   "execution_count": 71,
   "id": "8cf12da2-bd57-46f4-9c9b-660882620591",
   "metadata": {},
   "outputs": [],
   "source": [
    "def fit(X, y, mode='ols', learning_rate=0.01, steps=10000, seed=0, verbosity=0, intercept=True, cost_func='mse'):\n",
    "    modes = {\n",
    "        'ols': ordinary_least_square,\n",
    "        'gradient_descent': gradient_descent,\n",
    "        'ols_2': ordinary_least_square_multivariate,\n",
    "        'gradient_descent_multivariate': gradient_descent_multivariate\n",
    "    }\n",
    "    \n",
    "    return modes.get(mode, lambda: 'Invalid')(X=X,\n",
    "                                              y=y,\n",
    "                                              intercept=intercept,\n",
    "                                              learning_rate=learning_rate,\n",
    "                                              steps=steps,\n",
    "                                              seed=seed,\n",
    "                                              verbosity=verbosity,\n",
    "                                              cost_func=cost_func)"
   ]
  },
  {
   "cell_type": "code",
   "execution_count": 93,
   "id": "fbcba6f3-918f-415e-8901-39ca075ec3e3",
   "metadata": {},
   "outputs": [],
   "source": [
    "def mean_squared_error(pred_y, expec_y):\n",
    "    return squared_error(pred_y, expec_y).mean()\n",
    "\n",
    "def mean_absolute_error(pred_y, expec_y):\n",
    "    return absolute_error.mean()"
   ]
  },
  {
   "cell_type": "code",
   "execution_count": 94,
   "id": "3ec857a2-04e7-42cf-ba60-7a195a8909fc",
   "metadata": {},
   "outputs": [],
   "source": [
    "def squared_error(pred_y, expec_y):\n",
    "    return (pred_y - expec_y) ** 2\n",
    "\n",
    "def absolute_error(pred_y, expec_y):\n",
    "    return (pred_y - expec_y)"
   ]
  },
  {
   "cell_type": "code",
   "execution_count": 10,
   "id": "d5b2cadb-e47d-4c74-8ae6-0ec91ea7e6a3",
   "metadata": {},
   "outputs": [],
   "source": [
    "def r2 (pred_y, expec_y):\n",
    "    var_a = sum([ (y_i - y_t) ** 2 for y_i, y_t in zip(pred_y, expec_y) ])\n",
    "    var_b = sum([ (y_i - expec_y.mean()) ** 2 for y_i in expec_y ])\n",
    "    \n",
    "    return 1 - (var_a/var_b)"
   ]
  },
  {
   "cell_type": "code",
   "execution_count": 16,
   "id": "dd9e3faa-9409-4e01-a3f0-068b45a4f3a3",
   "metadata": {},
   "outputs": [],
   "source": [
    "def ordinary_least_square(X, y, **kwargs):\n",
    "    theta1 = np.corrcoef(X,y)[0, 1] * (y.std() / X.std())\n",
    "    theta0 = y.mean() - theta1 * X.mean()\n",
    "    \n",
    "    return theta1, theta0"
   ]
  },
  {
   "cell_type": "code",
   "execution_count": 50,
   "id": "c0b7bfa1-62d6-4a0c-8a1e-de6545c3f6ab",
   "metadata": {},
   "outputs": [],
   "source": [
    "def ordinary_least_square_multivariate(X, y, intercept=True, **kwargs):\n",
    "    X = np.c_[np.ones(X.shape[0]), X] if intercept else X\n",
    "    \n",
    "    return np.dot(np.dot(np.linalg.inv(np.dot(X.T, X)), X.T), y)"
   ]
  },
  {
   "cell_type": "code",
   "execution_count": 13,
   "id": "b6426cab-1ff6-4f7f-a70e-91a58c5ba710",
   "metadata": {},
   "outputs": [],
   "source": [
    "def derivative(theta0, theta1, X, y):\n",
    "    dtheta0 = 0\n",
    "    dtheta1 = 0\n",
    "    \n",
    "    for x_i, y_i in zip(X, y):\n",
    "        dtheta0 += predict(x_i, theta1, theta0) - y_i\n",
    "        dtheta1 += (predict(x_i, theta1, theta0) - y_i) * x_i\n",
    "    \n",
    "    dtheta0 /= 0.5*len(X)\n",
    "    dtheta1 /= 0.5*len(X)\n",
    "    \n",
    "    return dtheta0, dtheta1"
   ]
  },
  {
   "cell_type": "code",
   "execution_count": 14,
   "id": "6cb5499d-76c8-46f4-a452-e5aa637a2a9f",
   "metadata": {},
   "outputs": [],
   "source": [
    "def gradient_descent(X, y, learning_rate, steps, seed, verbosity, **kwargs):\n",
    "    random.seed(seed)\n",
    "    \n",
    "    theta0 = random.random()\n",
    "    theta1 = random.random()\n",
    "    \n",
    "    for i in range(steps):\n",
    "        if verbosity != 0 and i % verbosity == 0 :\n",
    "            predicted = predict(X, theta1, theta0)\n",
    "            print('Step: {} --- Error: {}'.format(i, mean_squared_error(predicted, y)))\n",
    "        \n",
    "        dtheta0, dtheta1 = derivative(theta0, theta1, X, y)\n",
    "\n",
    "        theta0 -= learning_rate*dtheta0\n",
    "        theta1 -= learning_rate*dtheta1\n",
    "    \n",
    "    return theta1, theta0"
   ]
  },
  {
   "cell_type": "code",
   "execution_count": 112,
   "id": "295ea5a5-9397-40c8-8506-3fd292c7d6b0",
   "metadata": {},
   "outputs": [],
   "source": [
    "def gradient_descent_multivariate(X, y, learning_rate, steps, seed, verbosity, intercept=True, cost_func='mse', **kwargs):\n",
    "    np.random.seed(seed)\n",
    "    \n",
    "    X = np.c_[np.ones(X.shape[0]), X] if intercept else X\n",
    "    \n",
    "    minimize = {\n",
    "        'mse': mean_squared_error,\n",
    "        'mae': mean_absolute_error,\n",
    "        \n",
    "    }\n",
    "    \n",
    "    betas = np.random.rand(X.shape[1])\n",
    "    \n",
    "    for i in range(steps):\n",
    "        predicted = predict_multivariate(X, betas, intercept=False)\n",
    "        error = minimize.get(cost_func, lambda: 'Invalid')(predicted, y)\n",
    "            \n",
    "        if verbosity != 0 and i % verbosity == 0 :\n",
    "            print('Step: {} --- Error: {}'.format(i, error))\n",
    "        \n",
    "        error = absolute_error(predicted,  y)\n",
    "        gradient = 2*np.dot(X.T, error) / len(X)\n",
    "        betas -= learning_rate*gradient\n",
    "    \n",
    "    return betas"
   ]
  },
  {
   "cell_type": "code",
   "execution_count": 17,
   "id": "48a022da-d81a-48bb-a4fb-ff52384c1b7c",
   "metadata": {},
   "outputs": [
    {
     "data": {
      "text/plain": [
       "(1.273136797389059, 7.806465474455767)"
      ]
     },
     "execution_count": 17,
     "metadata": {},
     "output_type": "execute_result"
    }
   ],
   "source": [
    "ordinary_least_square(df['area'], df['value'])"
   ]
  },
  {
   "cell_type": "code",
   "execution_count": 18,
   "id": "268eb20b-0614-45f6-a2c7-151a89af5c0b",
   "metadata": {},
   "outputs": [],
   "source": [
    "theta1, theta0 = fit(df['area'], df['value'])"
   ]
  },
  {
   "cell_type": "code",
   "execution_count": 19,
   "id": "e1b3a533-c6ee-4757-9337-f62ec87d9960",
   "metadata": {},
   "outputs": [
    {
     "name": "stdout",
     "output_type": "stream",
     "text": [
      "1.273136797389059 7.806465474455767\n"
     ]
    }
   ],
   "source": [
    "print(theta1, theta0)"
   ]
  },
  {
   "cell_type": "code",
   "execution_count": 20,
   "id": "770e9e16-fcb3-4541-a7da-cf3f4d5b9be0",
   "metadata": {},
   "outputs": [
    {
     "name": "stdout",
     "output_type": "stream",
     "text": [
      "0.2922746317391325\n",
      "0.641975652487156\n"
     ]
    }
   ],
   "source": [
    "predicted = predict(df['area'], theta1, theta0)\n",
    "print(mean_squared_error(predicted, df['value']))\n",
    "print(r2(predicted, df['value']))"
   ]
  },
  {
   "cell_type": "code",
   "execution_count": 23,
   "id": "59675e52-cf09-4a29-b721-504ad40f1724",
   "metadata": {},
   "outputs": [],
   "source": [
    "betas = fit(df[['area']].values, df['value'].values, mode='ols_2', intercept=True)"
   ]
  },
  {
   "cell_type": "code",
   "execution_count": 24,
   "id": "04585085-52b5-4a8a-95b1-d88f63397202",
   "metadata": {},
   "outputs": [
    {
     "data": {
      "text/plain": [
       "array([7.80646547, 1.2731368 ])"
      ]
     },
     "execution_count": 24,
     "metadata": {},
     "output_type": "execute_result"
    }
   ],
   "source": [
    "betas"
   ]
  },
  {
   "cell_type": "code",
   "execution_count": 32,
   "id": "8611b9c6-1851-4962-9fbf-5adffa04abed",
   "metadata": {},
   "outputs": [
    {
     "name": "stdout",
     "output_type": "stream",
     "text": [
      "0.2922746317391325\n",
      "0.6419756524871565\n"
     ]
    }
   ],
   "source": [
    "predicted = predict_multivariate(df[['area']].values, betas, intercept=True)\n",
    "print(mean_squared_error(predicted, df['value']))\n",
    "print(r2(predicted, df['value']))"
   ]
  },
  {
   "cell_type": "code",
   "execution_count": 39,
   "id": "9696c3b0-7814-466a-810a-319a7e0d3eb9",
   "metadata": {},
   "outputs": [
    {
     "data": {
      "text/plain": [
       "array([4.27666612])"
      ]
     },
     "execution_count": 39,
     "metadata": {},
     "output_type": "execute_result"
    }
   ],
   "source": [
    "np.array([np.log(72)])"
   ]
  },
  {
   "cell_type": "code",
   "execution_count": 42,
   "id": "e5be1a6d-1fe5-460b-a9a6-eb81a797013f",
   "metadata": {},
   "outputs": [
    {
     "data": {
      "text/plain": [
       "568778.569868878"
      ]
     },
     "execution_count": 42,
     "metadata": {},
     "output_type": "execute_result"
    }
   ],
   "source": [
    "np.exp(predict(np.log(72), theta1, theta0))"
   ]
  },
  {
   "cell_type": "code",
   "execution_count": 40,
   "id": "08f6c4d7-5236-4f51-af26-0130cb128495",
   "metadata": {},
   "outputs": [
    {
     "data": {
      "text/plain": [
       "array([568778.56986887])"
      ]
     },
     "execution_count": 40,
     "metadata": {},
     "output_type": "execute_result"
    }
   ],
   "source": [
    "np.exp(predict_multivariate(np.array([np.log(72)]), betas, intercept=True))"
   ]
  },
  {
   "cell_type": "code",
   "execution_count": 16,
   "id": "4821737a-434e-4730-9607-60fbfd02eda9",
   "metadata": {},
   "outputs": [
    {
     "name": "stdout",
     "output_type": "stream",
     "text": [
      "Step: 0 --- Error: 87.70010488446381\n",
      "Step: 1000 --- Error: 0.6541337197535424\n",
      "Step: 2000 --- Error: 0.4969364109075487\n",
      "Step: 3000 --- Error: 0.4080280983225491\n",
      "Step: 4000 --- Error: 0.35774296236989567\n",
      "Step: 5000 --- Error: 0.32930248448590266\n",
      "Step: 6000 --- Error: 0.31321699984027107\n",
      "Step: 7000 --- Error: 0.30411930403711884\n",
      "Step: 8000 --- Error: 0.2989737911259385\n",
      "Step: 9000 --- Error: 0.2960635703742233\n"
     ]
    }
   ],
   "source": [
    "theta1, theta0 = fit(df['area'], df['value'], mode='gradient_descent', verbosity=1000)"
   ]
  },
  {
   "cell_type": "code",
   "execution_count": 113,
   "id": "bc4910a3-065c-4a3b-a9dd-10762a94cccd",
   "metadata": {},
   "outputs": [
    {
     "name": "stdout",
     "output_type": "stream",
     "text": [
      "Step: 0 --- Error: 97.17937234750998\n",
      "Step: 1000 --- Error: 0.6850250629817578\n",
      "Step: 2000 --- Error: 0.514408066243553\n",
      "Step: 3000 --- Error: 0.41790979035273856\n",
      "Step: 4000 --- Error: 0.36333189115206443\n",
      "Step: 5000 --- Error: 0.33246349424381877\n",
      "Step: 6000 --- Error: 0.31500481698360694\n",
      "Step: 7000 --- Error: 0.30513046514790004\n",
      "Step: 8000 --- Error: 0.2995456878636821\n",
      "Step: 9000 --- Error: 0.2963870261273715\n"
     ]
    }
   ],
   "source": [
    "betas = fit(df['area'], df['value'], mode='gradient_descent_multivariate', verbosity=1000)"
   ]
  },
  {
   "cell_type": "code",
   "execution_count": 17,
   "id": "5af681e6-b5ac-4c5c-9e2f-c165b29ba172",
   "metadata": {},
   "outputs": [
    {
     "name": "stdout",
     "output_type": "stream",
     "text": [
      "0.29441759552780694\n",
      "0.639350610390212\n"
     ]
    }
   ],
   "source": [
    "predicted = predict(df['area'], theta1, theta0)\n",
    "print(mean_squared_error(predicted, df['value']))\n",
    "print(r2(predicted, df['value']))"
   ]
  },
  {
   "cell_type": "code",
   "execution_count": 18,
   "id": "27aea910-40e8-460d-a928-2881cc42fa96",
   "metadata": {},
   "outputs": [
    {
     "data": {
      "text/plain": [
       "550014.4752076697"
      ]
     },
     "execution_count": 18,
     "metadata": {},
     "output_type": "execute_result"
    }
   ],
   "source": [
    "np.exp(predict(np.log(72), theta1, theta0))"
   ]
  },
  {
   "cell_type": "markdown",
   "id": "6a948f20-fe6c-47f0-b442-9209303e064a",
   "metadata": {},
   "source": [
    "### Multivariable regression"
   ]
  },
  {
   "cell_type": "code",
   "execution_count": 21,
   "id": "22f0d6b6-5209-4d23-8038-42f00f8f7395",
   "metadata": {},
   "outputs": [],
   "source": [
    "X = df[['area', 'distance_beach', 'distance_supmarket']].values\n",
    "y = df['value'].values"
   ]
  },
  {
   "cell_type": "code",
   "execution_count": 34,
   "id": "1ff67576-e08b-4882-b004-67c55827603e",
   "metadata": {},
   "outputs": [],
   "source": [
    "x = np.array([[1., 2.], [3., 4.]])"
   ]
  },
  {
   "cell_type": "code",
   "execution_count": 36,
   "id": "6e336696-b37b-43e4-8308-09e183162b74",
   "metadata": {},
   "outputs": [],
   "source": [
    "y = np.array([2, 4])"
   ]
  },
  {
   "cell_type": "code",
   "execution_count": 39,
   "id": "93c106cb-b490-43d9-9737-cb33349be8e1",
   "metadata": {},
   "outputs": [
    {
     "data": {
      "text/plain": [
       "array([10., 22.])"
      ]
     },
     "execution_count": 39,
     "metadata": {},
     "output_type": "execute_result"
    }
   ],
   "source": [
    "np.dot(x, y)"
   ]
  },
  {
   "cell_type": "code",
   "execution_count": 41,
   "id": "bf033ceb-55de-41f0-88e7-3453b965fa91",
   "metadata": {},
   "outputs": [
    {
     "data": {
      "text/plain": [
       "array([8.8817842e-15, 1.0000000e+00])"
      ]
     },
     "execution_count": 41,
     "metadata": {},
     "output_type": "execute_result"
    }
   ],
   "source": [
    "np.dot(np.dot(np.linalg.inv(np.dot(x.T, x)), x.T), y)"
   ]
  },
  {
   "cell_type": "code",
   "execution_count": 32,
   "id": "ee74465a-475f-426f-bd63-b8ec6744cb01",
   "metadata": {},
   "outputs": [
    {
     "data": {
      "text/plain": [
       "array([[[-2.  ,  1.  ],\n",
       "        [ 1.5 , -0.5 ]],\n",
       "\n",
       "       [[-1.25,  0.75],\n",
       "        [ 0.75, -0.25]]])"
      ]
     },
     "execution_count": 32,
     "metadata": {},
     "output_type": "execute_result"
    }
   ],
   "source": [
    "np.linalg.inv(np.array([[[1., 2.], [3., 4.]], [[1, 3], [3, 5]]]))"
   ]
  },
  {
   "cell_type": "code",
   "execution_count": 29,
   "id": "3e64613e-0bc5-44a9-9b67-661e9dbab687",
   "metadata": {},
   "outputs": [
    {
     "data": {
      "text/plain": [
       "array([[1.        , 1.72895981, 0.21585741, 0.5842454 ],\n",
       "       [1.        , 1.67476451, 0.64402824, 0.12618674],\n",
       "       [1.        , 1.63623532, 0.05782096, 0.35299077],\n",
       "       ...,\n",
       "       [1.        , 1.44656486, 0.225651  , 0.35164723],\n",
       "       [1.        , 1.38812598, 2.29709264, 0.51936684],\n",
       "       [1.        , 1.51365247, 0.57348707, 0.02753345]])"
      ]
     },
     "execution_count": 29,
     "metadata": {},
     "output_type": "execute_result"
    }
   ],
   "source": [
    "np.c_[np.ones(X.shape[0]), X] if intercept else X"
   ]
  }
 ],
 "metadata": {
  "kernelspec": {
   "display_name": "Python 3 (ipykernel)",
   "language": "python",
   "name": "python3"
  },
  "language_info": {
   "codemirror_mode": {
    "name": "ipython",
    "version": 3
   },
   "file_extension": ".py",
   "mimetype": "text/x-python",
   "name": "python",
   "nbconvert_exporter": "python",
   "pygments_lexer": "ipython3",
   "version": "3.7.12"
  }
 },
 "nbformat": 4,
 "nbformat_minor": 5
}
