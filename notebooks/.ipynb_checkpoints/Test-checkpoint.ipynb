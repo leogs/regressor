{
 "cells": [
  {
   "cell_type": "code",
   "execution_count": 138,
   "id": "6d51000b-9058-4d38-a98f-74ff2ae2486c",
   "metadata": {},
   "outputs": [],
   "source": [
    "import numpy as np\n",
    "import warnings\n",
    "from metrics import *\n",
    "\n",
    "class SimpleLinearRegressor:\n",
    "    \n",
    "    def __init__(self, intercept=True):\n",
    "        self.intercept = intercept\n",
    "        self.betas = None\n",
    "\n",
    "    def predict(self, X, intercept=True):\n",
    "        X = np.c_[np.ones(X.shape[0]), X] if intercept else X\n",
    "        \n",
    "        try:\n",
    "            pred = np.dot(X, self.betas)\n",
    "        except TypeError as e:\n",
    "            raise Exception('Model is not fitted. Call fit before predict').with_traceback(e.__traceback__)\n",
    "        return pred\n",
    "    \n",
    "    def __ordinary_least_square(self, X, y, **kwargs):\n",
    "        self.betas = np.dot(np.dot(np.linalg.inv(np.dot(X.T, X)), X.T), y)\n",
    "        self.is_fitted = True\n",
    "\n",
    "    def __gradient_descent(self, X, y, learning_rate, steps, seed, verbosity, cost_func='mse', **kwargs):\n",
    "        np.random.seed(seed)\n",
    "        \n",
    "        minimize = {\n",
    "            'mse': mean_squared_error,\n",
    "            'mae': mean_absolute_error,\n",
    "            \n",
    "        }\n",
    "        \n",
    "        self.betas = np.random.rand(X.shape[1])\n",
    "        \n",
    "        for i in range(steps):\n",
    "            predicted = self.predict(X, intercept=False)\n",
    "            \n",
    "            try:\n",
    "                error = minimize.get(cost_func, lambda: 'Invalid')(predicted, y)\n",
    "            except ValueError as e:\n",
    "                raise Exception('X and y have different lenght')\n",
    "                \n",
    "            if verbosity != 0 and i % verbosity == 0 :\n",
    "                print('Step: {} --- Error: {}'.format(i, error))\n",
    "            \n",
    "            error = absolute_error(predicted,  y)\n",
    "            gradient = 2*np.dot(X.T, error) / len(X)\n",
    "            self.betas -= learning_rate*gradient\n",
    "\n",
    "\n",
    "    def fit(self, X, y, mode='ols', learning_rate=0.01, steps=10000, seed=0, verbosity=0, cost_func='mse'):\n",
    "        modes = {\n",
    "            'ols': self.__ordinary_least_square,\n",
    "            'gradient_descent': self.__gradient_descent\n",
    "        }\n",
    "        \n",
    "        try:\n",
    "            X = np.c_[np.ones(X.shape[0]), X] if self.intercept else X\n",
    "        except AttributeError as e:\n",
    "            raise Exception('X must a be an numpy array').with_traceback(e.__traceback__)\n",
    "        \n",
    "        try:\n",
    "            modes.get(mode)(X=X,\n",
    "                            y=y,\n",
    "                            learning_rate=learning_rate,\n",
    "                            steps=steps,\n",
    "                            seed=seed,\n",
    "                            verbosity=verbosity,\n",
    "                            cost_func=cost_func)\n",
    "            \n",
    "        except TypeError as e:\n",
    "            modes.get('ols')(X=X,\n",
    "                            y=y,\n",
    "                            learning_rate=learning_rate,\n",
    "                            steps=steps,\n",
    "                            seed=seed,\n",
    "                            verbosity=verbosity,\n",
    "                            cost_func=cost_func)\n",
    "            warnings.warn('Invalid parameter: {}. Using ols.'.format(mode))\n",
    "        except Exception as e:\n",
    "            raise e\n"
   ]
  },
  {
   "cell_type": "code",
   "execution_count": 3,
   "id": "cf3fd229-20cf-4131-98c1-f59f9436280c",
   "metadata": {},
   "outputs": [],
   "source": [
    "import pandas as pd"
   ]
  },
  {
   "cell_type": "code",
   "execution_count": 4,
   "id": "f2b96177-ec68-4846-96e2-9f776de150c5",
   "metadata": {},
   "outputs": [
    {
     "data": {
      "text/html": [
       "<div>\n",
       "<style scoped>\n",
       "    .dataframe tbody tr th:only-of-type {\n",
       "        vertical-align: middle;\n",
       "    }\n",
       "\n",
       "    .dataframe tbody tr th {\n",
       "        vertical-align: top;\n",
       "    }\n",
       "\n",
       "    .dataframe thead th {\n",
       "        text-align: right;\n",
       "    }\n",
       "</style>\n",
       "<table border=\"1\" class=\"dataframe\">\n",
       "  <thead>\n",
       "    <tr style=\"text-align: right;\">\n",
       "      <th></th>\n",
       "      <th>value</th>\n",
       "      <th>area</th>\n",
       "      <th>distance_beach</th>\n",
       "      <th>distance_supmarket</th>\n",
       "    </tr>\n",
       "  </thead>\n",
       "  <tbody>\n",
       "    <tr>\n",
       "      <th>0</th>\n",
       "      <td>4600000</td>\n",
       "      <td>280</td>\n",
       "      <td>0.240925</td>\n",
       "      <td>0.793637</td>\n",
       "    </tr>\n",
       "    <tr>\n",
       "      <th>1</th>\n",
       "      <td>900000</td>\n",
       "      <td>208</td>\n",
       "      <td>0.904136</td>\n",
       "      <td>0.134494</td>\n",
       "    </tr>\n",
       "    <tr>\n",
       "      <th>2</th>\n",
       "      <td>2550000</td>\n",
       "      <td>170</td>\n",
       "      <td>0.059525</td>\n",
       "      <td>0.423318</td>\n",
       "    </tr>\n",
       "    <tr>\n",
       "      <th>3</th>\n",
       "      <td>550000</td>\n",
       "      <td>100</td>\n",
       "      <td>2.883181</td>\n",
       "      <td>0.525064</td>\n",
       "    </tr>\n",
       "    <tr>\n",
       "      <th>4</th>\n",
       "      <td>2200000</td>\n",
       "      <td>164</td>\n",
       "      <td>0.239758</td>\n",
       "      <td>0.192374</td>\n",
       "    </tr>\n",
       "  </tbody>\n",
       "</table>\n",
       "</div>"
      ],
      "text/plain": [
       "     value  area  distance_beach  distance_supmarket\n",
       "0  4600000   280        0.240925            0.793637\n",
       "1   900000   208        0.904136            0.134494\n",
       "2  2550000   170        0.059525            0.423318\n",
       "3   550000   100        2.883181            0.525064\n",
       "4  2200000   164        0.239758            0.192374"
      ]
     },
     "execution_count": 4,
     "metadata": {},
     "output_type": "execute_result"
    }
   ],
   "source": [
    "df = pd.read_csv('../datasets/dataset_house_price.csv')\n",
    "df.head()"
   ]
  },
  {
   "cell_type": "code",
   "execution_count": 5,
   "id": "d05b02db-1d6d-4571-badd-66c5a389bb11",
   "metadata": {},
   "outputs": [],
   "source": [
    "df['value'] = np.log(df['value'])\n",
    "df['area'] = np.log(df['area'])\n",
    "df['distance_beach'] = np.log(df['distance_beach'] + 1)\n",
    "df['distance_supmarket'] = np.log(df['distance_supmarket'] + 1)"
   ]
  },
  {
   "cell_type": "code",
   "execution_count": 139,
   "id": "b2c4b6de-c963-4e07-80e6-9a8c0b6337a4",
   "metadata": {},
   "outputs": [],
   "source": [
    "clf = SimpleLinearRegressor()"
   ]
  },
  {
   "cell_type": "code",
   "execution_count": 140,
   "id": "49b12ac9-ddba-4aaf-ba5d-f17d227811fc",
   "metadata": {},
   "outputs": [
    {
     "ename": "Exception",
     "evalue": "X must a be an numpy array",
     "output_type": "error",
     "traceback": [
      "\u001b[0;31m---------------------------------------------------------------------------\u001b[0m",
      "\u001b[0;31mAttributeError\u001b[0m                            Traceback (most recent call last)",
      "\u001b[0;32m/tmp/ipykernel_50/923307886.py\u001b[0m in \u001b[0;36mfit\u001b[0;34m(self, X, y, mode, learning_rate, steps, seed, verbosity, cost_func)\u001b[0m\n\u001b[1;32m     57\u001b[0m         \u001b[0;32mtry\u001b[0m\u001b[0;34m:\u001b[0m\u001b[0;34m\u001b[0m\u001b[0;34m\u001b[0m\u001b[0m\n\u001b[0;32m---> 58\u001b[0;31m             \u001b[0mX\u001b[0m \u001b[0;34m=\u001b[0m \u001b[0mnp\u001b[0m\u001b[0;34m.\u001b[0m\u001b[0mc_\u001b[0m\u001b[0;34m[\u001b[0m\u001b[0mnp\u001b[0m\u001b[0;34m.\u001b[0m\u001b[0mones\u001b[0m\u001b[0;34m(\u001b[0m\u001b[0mX\u001b[0m\u001b[0;34m.\u001b[0m\u001b[0mshape\u001b[0m\u001b[0;34m[\u001b[0m\u001b[0;36m0\u001b[0m\u001b[0;34m]\u001b[0m\u001b[0;34m)\u001b[0m\u001b[0;34m,\u001b[0m \u001b[0mX\u001b[0m\u001b[0;34m]\u001b[0m \u001b[0;32mif\u001b[0m \u001b[0mself\u001b[0m\u001b[0;34m.\u001b[0m\u001b[0mintercept\u001b[0m \u001b[0;32melse\u001b[0m \u001b[0mX\u001b[0m\u001b[0;34m\u001b[0m\u001b[0;34m\u001b[0m\u001b[0m\n\u001b[0m\u001b[1;32m     59\u001b[0m         \u001b[0;32mexcept\u001b[0m \u001b[0mAttributeError\u001b[0m \u001b[0;32mas\u001b[0m \u001b[0me\u001b[0m\u001b[0;34m:\u001b[0m\u001b[0;34m\u001b[0m\u001b[0;34m\u001b[0m\u001b[0m\n",
      "\u001b[0;31mAttributeError\u001b[0m: 'list' object has no attribute 'shape'",
      "\nDuring handling of the above exception, another exception occurred:\n",
      "\u001b[0;31mException\u001b[0m                                 Traceback (most recent call last)",
      "\u001b[0;32m/tmp/ipykernel_50/746587313.py\u001b[0m in \u001b[0;36m<module>\u001b[0;34m\u001b[0m\n\u001b[0;32m----> 1\u001b[0;31m \u001b[0mclf\u001b[0m\u001b[0;34m.\u001b[0m\u001b[0mfit\u001b[0m\u001b[0;34m(\u001b[0m\u001b[0;34m[\u001b[0m\u001b[0;36m1\u001b[0m\u001b[0;34m,\u001b[0m \u001b[0;36m2\u001b[0m\u001b[0;34m]\u001b[0m\u001b[0;34m,\u001b[0m \u001b[0mdf\u001b[0m\u001b[0;34m[\u001b[0m\u001b[0;34m'value'\u001b[0m\u001b[0;34m]\u001b[0m\u001b[0;34m,\u001b[0m \u001b[0mmode\u001b[0m\u001b[0;34m=\u001b[0m\u001b[0;34m'gradient_descent'\u001b[0m\u001b[0;34m,\u001b[0m \u001b[0mverbosity\u001b[0m\u001b[0;34m=\u001b[0m\u001b[0;36m1000\u001b[0m\u001b[0;34m)\u001b[0m\u001b[0;34m\u001b[0m\u001b[0;34m\u001b[0m\u001b[0m\n\u001b[0m",
      "\u001b[0;32m/tmp/ipykernel_50/923307886.py\u001b[0m in \u001b[0;36mfit\u001b[0;34m(self, X, y, mode, learning_rate, steps, seed, verbosity, cost_func)\u001b[0m\n\u001b[1;32m     58\u001b[0m             \u001b[0mX\u001b[0m \u001b[0;34m=\u001b[0m \u001b[0mnp\u001b[0m\u001b[0;34m.\u001b[0m\u001b[0mc_\u001b[0m\u001b[0;34m[\u001b[0m\u001b[0mnp\u001b[0m\u001b[0;34m.\u001b[0m\u001b[0mones\u001b[0m\u001b[0;34m(\u001b[0m\u001b[0mX\u001b[0m\u001b[0;34m.\u001b[0m\u001b[0mshape\u001b[0m\u001b[0;34m[\u001b[0m\u001b[0;36m0\u001b[0m\u001b[0;34m]\u001b[0m\u001b[0;34m)\u001b[0m\u001b[0;34m,\u001b[0m \u001b[0mX\u001b[0m\u001b[0;34m]\u001b[0m \u001b[0;32mif\u001b[0m \u001b[0mself\u001b[0m\u001b[0;34m.\u001b[0m\u001b[0mintercept\u001b[0m \u001b[0;32melse\u001b[0m \u001b[0mX\u001b[0m\u001b[0;34m\u001b[0m\u001b[0;34m\u001b[0m\u001b[0m\n\u001b[1;32m     59\u001b[0m         \u001b[0;32mexcept\u001b[0m \u001b[0mAttributeError\u001b[0m \u001b[0;32mas\u001b[0m \u001b[0me\u001b[0m\u001b[0;34m:\u001b[0m\u001b[0;34m\u001b[0m\u001b[0;34m\u001b[0m\u001b[0m\n\u001b[0;32m---> 60\u001b[0;31m             \u001b[0;32mraise\u001b[0m \u001b[0mException\u001b[0m\u001b[0;34m(\u001b[0m\u001b[0;34m'X must a be an numpy array'\u001b[0m\u001b[0;34m)\u001b[0m\u001b[0;34m.\u001b[0m\u001b[0mwith_traceback\u001b[0m\u001b[0;34m(\u001b[0m\u001b[0me\u001b[0m\u001b[0;34m.\u001b[0m\u001b[0m__traceback__\u001b[0m\u001b[0;34m)\u001b[0m\u001b[0;34m\u001b[0m\u001b[0;34m\u001b[0m\u001b[0m\n\u001b[0m\u001b[1;32m     61\u001b[0m \u001b[0;34m\u001b[0m\u001b[0m\n\u001b[1;32m     62\u001b[0m         \u001b[0;32mtry\u001b[0m\u001b[0;34m:\u001b[0m\u001b[0;34m\u001b[0m\u001b[0;34m\u001b[0m\u001b[0m\n",
      "\u001b[0;32m/tmp/ipykernel_50/923307886.py\u001b[0m in \u001b[0;36mfit\u001b[0;34m(self, X, y, mode, learning_rate, steps, seed, verbosity, cost_func)\u001b[0m\n\u001b[1;32m     56\u001b[0m \u001b[0;34m\u001b[0m\u001b[0m\n\u001b[1;32m     57\u001b[0m         \u001b[0;32mtry\u001b[0m\u001b[0;34m:\u001b[0m\u001b[0;34m\u001b[0m\u001b[0;34m\u001b[0m\u001b[0m\n\u001b[0;32m---> 58\u001b[0;31m             \u001b[0mX\u001b[0m \u001b[0;34m=\u001b[0m \u001b[0mnp\u001b[0m\u001b[0;34m.\u001b[0m\u001b[0mc_\u001b[0m\u001b[0;34m[\u001b[0m\u001b[0mnp\u001b[0m\u001b[0;34m.\u001b[0m\u001b[0mones\u001b[0m\u001b[0;34m(\u001b[0m\u001b[0mX\u001b[0m\u001b[0;34m.\u001b[0m\u001b[0mshape\u001b[0m\u001b[0;34m[\u001b[0m\u001b[0;36m0\u001b[0m\u001b[0;34m]\u001b[0m\u001b[0;34m)\u001b[0m\u001b[0;34m,\u001b[0m \u001b[0mX\u001b[0m\u001b[0;34m]\u001b[0m \u001b[0;32mif\u001b[0m \u001b[0mself\u001b[0m\u001b[0;34m.\u001b[0m\u001b[0mintercept\u001b[0m \u001b[0;32melse\u001b[0m \u001b[0mX\u001b[0m\u001b[0;34m\u001b[0m\u001b[0;34m\u001b[0m\u001b[0m\n\u001b[0m\u001b[1;32m     59\u001b[0m         \u001b[0;32mexcept\u001b[0m \u001b[0mAttributeError\u001b[0m \u001b[0;32mas\u001b[0m \u001b[0me\u001b[0m\u001b[0;34m:\u001b[0m\u001b[0;34m\u001b[0m\u001b[0;34m\u001b[0m\u001b[0m\n\u001b[1;32m     60\u001b[0m             \u001b[0;32mraise\u001b[0m \u001b[0mException\u001b[0m\u001b[0;34m(\u001b[0m\u001b[0;34m'X must a be an numpy array'\u001b[0m\u001b[0;34m)\u001b[0m\u001b[0;34m.\u001b[0m\u001b[0mwith_traceback\u001b[0m\u001b[0;34m(\u001b[0m\u001b[0me\u001b[0m\u001b[0;34m.\u001b[0m\u001b[0m__traceback__\u001b[0m\u001b[0;34m)\u001b[0m\u001b[0;34m\u001b[0m\u001b[0;34m\u001b[0m\u001b[0m\n",
      "\u001b[0;31mException\u001b[0m: X must a be an numpy array"
     ]
    }
   ],
   "source": [
    "clf.fit(df['area'], df['value'], mode='gradient_descent', verbosity=1000)"
   ]
  },
  {
   "cell_type": "code",
   "execution_count": 104,
   "id": "3e5a2ce0-ef86-4f6d-815d-7258b6c1b926",
   "metadata": {},
   "outputs": [],
   "source": [
    "predicted = clf.predict(df['area'])"
   ]
  },
  {
   "cell_type": "code",
   "execution_count": 105,
   "id": "bd9b26b5-5ea8-4f88-b3da-959070547069",
   "metadata": {},
   "outputs": [
    {
     "name": "stdout",
     "output_type": "stream",
     "text": [
      "0.2922746317391325\n",
      "0.6419756524871565\n"
     ]
    }
   ],
   "source": [
    "print(mean_squared_error(predicted, df['value']))\n",
    "print(r2(predicted, df['value']))"
   ]
  },
  {
   "cell_type": "code",
   "execution_count": 32,
   "id": "45c9599b-cf9a-42f1-833c-a6441684dd17",
   "metadata": {},
   "outputs": [],
   "source": [
    "clf.fit(df['area'], df['value'], mode='ols', verbosity=1000)"
   ]
  },
  {
   "cell_type": "code",
   "execution_count": 33,
   "id": "59c53d27-1807-4e8c-bf6a-f6f7d1f0315b",
   "metadata": {},
   "outputs": [],
   "source": [
    "predicted = clf.predict(df['area'])"
   ]
  },
  {
   "cell_type": "code",
   "execution_count": 34,
   "id": "d3d3d5c1-4e89-41a9-8bac-3edffd3f292c",
   "metadata": {},
   "outputs": [
    {
     "name": "stdout",
     "output_type": "stream",
     "text": [
      "0.2922746317391325\n",
      "0.6419756524871565\n"
     ]
    }
   ],
   "source": [
    "print(mean_squared_error(predicted, df['value']))\n",
    "print(r2(predicted, df['value']))"
   ]
  }
 ],
 "metadata": {
  "kernelspec": {
   "display_name": "Python 3 (ipykernel)",
   "language": "python",
   "name": "python3"
  },
  "language_info": {
   "codemirror_mode": {
    "name": "ipython",
    "version": 3
   },
   "file_extension": ".py",
   "mimetype": "text/x-python",
   "name": "python",
   "nbconvert_exporter": "python",
   "pygments_lexer": "ipython3",
   "version": "3.7.12"
  }
 },
 "nbformat": 4,
 "nbformat_minor": 5
}
